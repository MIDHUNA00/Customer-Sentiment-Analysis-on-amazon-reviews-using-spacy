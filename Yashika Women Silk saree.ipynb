{
 "cells": [
  {
   "cell_type": "code",
   "execution_count": 1,
   "id": "f57767b8",
   "metadata": {},
   "outputs": [
    {
     "name": "stderr",
     "output_type": "stream",
     "text": [
      "/usr/lib/python3/dist-packages/requests/__init__.py:89: RequestsDependencyWarning: urllib3 (1.26.11) or chardet (3.0.4) doesn't match a supported version!\n",
      "  warnings.warn(\"urllib3 ({}) or chardet ({}) doesn't match a supported \"\n"
     ]
    }
   ],
   "source": [
    "import requests\n",
    "from bs4 import BeautifulSoup\n",
    "import csv\n",
    "\n",
    "# Define the URL of the product page and the number of pages to scrape\n",
    "URL  = \"https://www.amazon.in/Yashika-Womens-Blouse-Sdpl-Swati-Navy_Multicolor/product-reviews/B07HL695YR/ref=cm_cr_dp_d_show_all_btm?ie=UTF8&reviewerType=all_reviews\"\n",
    "\n",
    "pages = 100\n",
    "\n",
    "\n",
    "# Create a CSV file to store the data\n",
    "with open('reviewset4.csv', 'w',encoding=\"utf-8\", newline='') as file:\n",
    "    writer = csv.writer(file)\n",
    "    writer.writerow(['review_title', 'review_text', 'review_rating'])\n",
    "    \n",
    "    # Scrape the reviews from each page\n",
    "    for i in range(1, pages+1):\n",
    "        # Send the HTTP request and parse the response\n",
    "        res = requests.get( URL + '&pageNumber=' +str(i))\n",
    "        soup = BeautifulSoup(res.text, 'html.parser')\n",
    "        \n",
    "        # Extract the review title, text, rating, and date\n",
    "        review_titles = soup.find_all('a',{'data-hook':'review-title'})\n",
    "        review_texts = soup.find_all('span',{'data-hook':'review-body'})\n",
    "        review_ratings = soup.find_all('i',{'data-hook':'review-star-rating'})\n",
    "        \n",
    "        # Write the data to the CSV file\n",
    "        for j in range(len(review_titles)):\n",
    "            writer.writerow([review_titles[j].text, review_texts[j].text, review_ratings[j].text])"
   ]
  },
  {
   "cell_type": "code",
   "execution_count": null,
   "id": "abfeb10a",
   "metadata": {},
   "outputs": [],
   "source": [
    "import pandas as pd"
   ]
  },
  {
   "cell_type": "code",
   "execution_count": null,
   "id": "c3c26069",
   "metadata": {},
   "outputs": [],
   "source": [
    "data = pd.read_csv('reviewset4.csv')"
   ]
  },
  {
   "cell_type": "code",
   "execution_count": null,
   "id": "cd40742f",
   "metadata": {},
   "outputs": [],
   "source": [
    "data"
   ]
  }
 ],
 "metadata": {
  "kernelspec": {
   "display_name": "Python 3 (ipykernel)",
   "language": "python",
   "name": "python3"
  },
  "language_info": {
   "codemirror_mode": {
    "name": "ipython",
    "version": 3
   },
   "file_extension": ".py",
   "mimetype": "text/x-python",
   "name": "python",
   "nbconvert_exporter": "python",
   "pygments_lexer": "ipython3",
   "version": "3.8.10"
  }
 },
 "nbformat": 4,
 "nbformat_minor": 5
}

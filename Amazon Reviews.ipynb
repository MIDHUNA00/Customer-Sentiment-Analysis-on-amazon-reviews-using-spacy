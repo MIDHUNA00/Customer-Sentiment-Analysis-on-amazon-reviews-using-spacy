{
 "cells": [
  {
   "cell_type": "code",
   "execution_count": 1,
   "id": "57798ef4",
   "metadata": {},
   "outputs": [],
   "source": [
    "from bs4 import BeautifulSoup\n",
    "import requests\n",
    "import time\n",
    "import datetime"
   ]
  },
  {
   "cell_type": "code",
   "execution_count": 7,
   "id": "276a0046",
   "metadata": {},
   "outputs": [
    {
     "name": "stdout",
     "output_type": "stream",
     "text": [
      "Amazon.in:Customer reviews: Samsung Galaxy M33 5G (Emerald Brown, 6GB, 128GB Storage) | 6000mAh Battery | Upto 12GB RAM with RAM Plus | Travel Adapter to be Purchased Separately\n"
     ]
    }
   ],
   "source": [
    "URL = 'https://www.amazon.in/Samsung-Emerald-Storage-Purchased-Separately/product-reviews/B0B14MR9L1/ref=cm_cr_dp_d_show_all_btm?ie=UTF8&reviewerType=all_reviews'\n",
    "\n",
    "headers = {\"User-Agent\": \"Mozilla/5.0 (Windows NT 10.0; Win64; x64) AppleWebKit/537.36 (KHTML, like Gecko) Chrome/109.0.0.0 Safari/537.36\",\"Accept-Encoding\":\"gzip, deflate\", \"Accept\":\"text/html,application/xhtml+xml,application/xml;q=0.9,*/*;q=0.8\", \"DNT\":\"1\",\"Connection\":\"close\", \"Upgrade-Insecure-Requests\":\"1\"}\n",
    "\n",
    "page = requests.get(URL, headers=headers)\n",
    "\n",
    "soup = BeautifulSoup(page.text, 'html.parser')\n",
    "\n",
    "print(soup.title.text)\n",
    "\n",
    "\n",
    "\n"
   ]
  },
  {
   "cell_type": "code",
   "execution_count": 29,
   "id": "d149ad01",
   "metadata": {},
   "outputs": [
    {
     "name": "stdout",
     "output_type": "stream",
     "text": [
      "{'title': 'THE PERFECT PHONE – FOR MY REQUIREMENTS', 'rating': 5.0, 'body': 'I would not consider buying an i-phone simply because my friend owns two of them – or blindly go for a new Android model suggested by my son or nephew (both of whom are more tech savvy than me) because their recommendations are obviously based on their own needs and expectations, which may differ from mine. I am an old-fashioned mechanical engineer with a basic understanding of parameters like millimetres, megapixels and megabytes – but I think of a cellphone as a utility item, not a status symbol. Applying a technocratic approach, I would not choose a costlier option unless I get additional features which suit my requirements.My foremost requirement – which is entirely non-negotiable – is that my handset must have provision for two SIM cards, since I do not want to carry two separate handsets for my CUG and personal numbers. My other requirements are not difficult to fulfil: a phonebook with at least 2000 contacts, basic net connectivity, a basic camera for photos and videos and scope for downloading a few apps such as the ubiquitous WhatsApp and my favourite word games (which do not need much memory or processing capacity). I would certainly appreciate practical features like high reliability, software and security updates and high battery capacity (sufficient for 24 hours or preferably 48 hours at my normal level of usage). Besides, I would like to use a new handset for at least two years.Apart from exigencies, I do not intend to use my cellphone for surfing the Internet, videoconferencing or sending e-mails as I prefer using a desktop or laptop for such activities.I am equally clear about what I do not need. I do not intend to use my cellphone for watching movies, reading books, listening to music or creating fancy social media posts. Nor do I want a device for taking high resolution photos during a vacation as I would prefer to use a camera. At the risk of sounding flippant, I would say that I do not want a device to unlock my car or count the strokes in a game of golf – primarily because I do not own a car and I do not play golf!Having used smartphones of Samsung and Motorola makes over the past few years, I vastly prefer the former. My last phone, which gave me over 30 months of good service, was a Samsung M30. Since that model is obsolete now, I focused on its upgraded cousins: M32, M33 and M52. The last was immediately ruled out as it does not support two SIM cards along with an SD card. After studying the relative specifications of M32 and M33, I concluded that the latter offers better value for money. Generally, it is worth going for the higher memory and higher RAM versions as these parameters affect the performance and the difference in cost is relatively small. With these considerations, I narrowed down my choice to M33 with 8GB RAM and 128GB storage (Just twenty years ago, I was using a desktop with 2GB memory!)As a confirmation for my choice, I compared the phone I had selected with OnePlus Nord CE 2 (8GB RAM, 128GB Storage) which my son had recommended. The specification of the Samsung phone was found to be equivalent or superior for the major parameters, except that the display screen technology was TFT instead of AMOLED. I also watched some Youtube videos about these handsets for a better appreciation of their competing features. The clinching factor was that the Samsung phone was priced substantially lower than the OnePlus product.As for body colour, my first choice was Emerald Brown, but I settled for the Mystique Green since the former was not available in my selected configuration. I was thinking this would be irrelevant since I use a case which completely encloses the handset, but it turned out that the body colour can be glimpsed through the cutout for the cameras on the rear of the phone.Despite a strong family resemblance with my old one (M30), the new phone (M33) offers decidedly superior specifications and it meets my requirements perfectly. It is a few millimetres longer and a few grams heavier than my old phone, but these differences are acceptable to me. Thanks to the 50MP front camera and 8MP selfie camera, the quality of photos and videos is above my expectations (see sample pic taken at night at a distance of about 30 metres from the stage).  This phone offers two years of android updates and four years of security patch updates, which reduces the worries on these fronts. Youtube reviewers complain that the M33 has plain looks, it is heavy, its audio does not offer an ‘immersive listening experience’ and its screen is plain old TFT instead of AMOLED. I am willing to live with these perceived shortcomings, so long as the M33 meets my requirements.I was glad to find that Samsung has taken an environmentally friendly step of offering many models of handsets without chargers – because old chargers, like old handsets, add to e-waste. However, it needs to be kept in mind that new handsets require higher capacity chargers. The recommended charger for M33 is 25 watts, but the chargers I had at home are rated at 5 or 10 watts.To cut a long story short, I ordered a 25-watt charger along with the phone to avoid compromising with the charging time. After using the new handset for a couple of weeks, I find that my phone is at 60-70% charge at the end of the day, and it takes 30-40 minutes for complete charging (one of the useful features of M33 is that it shows the time remaining for complete charging as soon as it is plugged in for charging). It turns out that I could have managed with the old 10-watt charger, except that it would have taken 60-90 minutes for full charging.I conclude by emphasizing that Samsung Galaxy M33 5g is the perfect phone – but for my requirements. A word of advice: if you are planning to buy a new phone, it would be helpful if you list out your requirements so that you do not end up paying for features that you do not intend to use.'}\n",
      "{'title': 'There are many hidden problems in this phone.', 'rating': 1.0, 'body': \"This phone is overpriced for even discounted price (12,999/- for 6 GB variant). I purchased it because of past good experience with Samsung (Galaxy On6) but this phone cannot match the legacy. Samsung has done too much  unnecessary cost cutting on this phone.Camera: It has an average camera. It clicks decent photos and records good videos up to 4K 30fps, fhd 60. Only the main 50 MP sensor is usable, all others are present just for count. Camera has serious bug that it captures washed out colours if its AI detects a human face while using flash. If we remove human from frame, it captures just fine colours. Also, colours are just fine while clicking without flash.Front camera is pathetic from today's standard, it will just get you with video calls and nothing more, do not expect to use it for selfies with clarity. I do not click many pictures so I am okay with its camera.You can see this issue in the attached images, both the images were captured in low light with flash, the first one came out fine with colours close to actual object while the second one has completely washed out colours because the AI in phone detected human there. This unnecessary processing ruins the joy and there is no option in camera settings to turn this off. I have spent many hours trying to avoid this with different combinations of camera settings but it cannot be turned off. This bug might be embedded deep in the phone hardware as even third party camera apps ( I tried with OpenCamera) also give the same results.Battery : It can last for around 2 days with light to medium usage. It struggles to last one full day with high usage. Exynos 1280 is not efficient considering it is 5nm chipset. Also, the phone gets warm even with normal usage ( browsing etc) and gets somewhat hot during gaming.Idle battery drain is around 8-10% per night.It charges from 8% to 100% in 4:50 hours with 5 watt charger.With 7.5w (5v 1.5a) charger, it takes around 2:55 hours.Charges in around 2:15 hours with 15 watt charger (shows as fast charging).With 25 watt charger, the phone shows as super fast charging and charges from 5% to 100% in 1:24 hours.Display : Display seems smooth with 120 Hz, obviously not punchy as super amoled but it is okay and has good brightness for sunlight use and sufficiently low brightness for comfortable night use. Viewing angles are good. I did not face any issue with display and am okay with it.Buggy Auto brightness: Samsung has a habit of using cheap virtual sensors on its devices. This phone has virtual light sensors which is just a software solution to set screen brightness according to light present in room and using front camera as the light source. But this is seriously buggy in this phone, the phone does not understand difference between complete dark and dimly lit room. So, it will apply same brightness settings to both of these situations resulting unnecessarily bright screen in dark and uncomfortably dim screen in dimly lighted room. This sensor works poorly in outdoor as well. Most of the time, the brightness it applies to screen is not adequate.Software and UI: Samsung had installed may bloatware apps which are removable, One UI as everyone knows, is pretty user friendly. So, that is okay, however, Samsung should mention that this phone does not support some of the features such as S secure, bixby routines and sound assistant which are useful for some. Otherwise software experience is good, lag free.WiFi: It supports 2.4 ghz and 5 ghz wifi at 1x1. So max of 72 mbps in 2.4 ghz mode and max 433 mbps in 5 ghz mode. This is the most basic wifi configuration possible. It can share wifi over hotspot which is nice. Although basic, wifi will not give any issue and has good range. So, wifi is okay.Bluetooth: I did not test bluetooth range but found it sufficient for my use. It can connect to two different  devices simultaneously. However, can play music in one device only. Did not find any issue with bluetooth.Mobile network: It has good 5g support with 12 bands but supports only 1 5g sim at a time. If we set one of the sims to 5g mode, the other one drops to 4g/3g/2g mode.It supports carrier aggregation and when tested, it was working with 3 band carrier aggregation with Jio.Call clarity is good and it can record calls without announcing to other person. virtual proximity sensor is not too bad.Fingerprint reader: For this price, the performance of side mounted fingerprint reader is good enough.We can register up to 3 fingerprints only which is limiting and not appreciated, at least 5 should be given.Face unlock: I guess it has AI based face unlock which works good even in low light condition. Although I do not know how secure it is.Storage and Memory: It has 6 to 8 GB of Lpddr4x RAM which is good for this price.128 GB storage used is UFS 2.1 which is not justified at this price in 2022 and lacks in performance when compared to UFS 2.2, apps take more time to install.Gaming: I installed call of duty mobile and it allowed settings up to medium graphics with very high frame rate and low graphics with max frame rate. In both settings, game was lag free and frame rate was always below 60 fps. So below average gaming. However, I do not play games, so, did not test with other games and do not care about gaming performance.Multimedia: Display quality is okay and single bottom firing speaker is average and audio from headset jack is fine, no complaints here.The chipset used in this phone supports h.264, h.265 video codecs only and does not support VP9 and AV1 codecs which is the most annoying downside. This means that it can play youtube only till 1080p and not in 2k or 4k because youtube supports h.264 up to 1080p only and we need vp9 and av1 support if we want to play higher resolution videos and if in future youtube removes h.264 support then this phone will not be able to play youtube at all. This is a very serious issue with this device. In future, all the streaming services will eventually switch to vp9 and av1 codecs as they provide better streaming efficiency and are royalty free, but as this phone does not support those, we cannot say this will be good for multimedia in future. So, 0 points for this in multimedia.Also, if we play youtube videos in browser like brave, it runs in software acceleration mode ( again, due to lack of vp9 and av1 capability) which loads up cpu and drains battery fast. Use youtube in either Youtube app or Newpipe to prevent unnecessary battery drain (as these apps play videos with hardware acceleration, which saves power). All this nonsense applies to other OTT apps (Hotstar, Prime etc) as well as almost all of them use VP9 codec for streaming which this phone plays in software mode, which shoot up the cpu usage and causes fast battery drain ( around 15-18% per hour).GPS and navigation : Works just fine. Has compass support.Pros:Two promised android updates and 4 years of security updates.Sufficiently good display with high refresh rate, feels really smooth.Good audio, WiFi and Bluetooth.dedicated memory card slot.base variant with 6 GB RAM and 128 GB storage which is good.Cons:Samsung cheaping out with no charger/cover/screen protector in box while competitors provide those.5g on single sim only. Competitors provide dual 5g in even cheaper phones.inferior UFS 2.1 storage is not good at this price, UFS 2.2 should be there.only up to 3 fingerprints.Buggy camera algorithm.cheap virtual proximity sensor.buggy camera light sensor.Exynos 1280 chipset claims to be having 5nm lithography which is good on paper, but in reality, its efficiency is on par with some 12-14 nm chipset and it heats under general use. Also, I don't understand why Samsung had to omit useful VP9 and AV1 codec which wouldn't even have costed them more as they are royalty free and Mediatek Dimensity 920 with same Mali G68 GPU supports those codecs. This has resulted the phone to be not able to play 4K and 2K resolutions on youtube.No HDR playback support.\"}\n",
      "{'title': 'Galaxy M33 5G a mixed bag of Affordability', 'rating': 5.0, 'body': \"With 5G connectivity, a 120Hz display and solid performance, the Galaxy M33 5G is Samsung’s best-value smartphone yet under 20K segmentPros\\xa0Almost half the price of Galaxy A53Exynos 1280 is a solid performerExcellent 120Hz display with smooth experience across the boardHuge performance uplift over M32One UI 4.1 based on android 12 has tons of good features to love, none of the flagship grade features are skipped here (apart from dex mode and spen features), Zero lag or stuttering in 120 hz mode with ease of use and seemless switching of apps without any crash or reloading\\xa0 of apps, makes using one ui pleasure to surf acrossYou get features like a\\xa0screen recorder,\\xa0video call effects, Game Launcher,\\xa0Link to Windows,\\xa0Dual Messenger,\\xa0Quick Share,\\xa0Music Share, and Secure Folder, along with many others. Some of the fancy Android 12 features, like the ability to\\xa0change the color palette\\xa0of icons and menus based on the wallpaper and\\xa0dim the screen for easier reading in the dark, are also included.Voice focus for calls is excellent feature, phone call quality is really good even in nosiy and crowded areasI had no issues with GPS or connectivity while using Google maps to navigate,\\xa0 signal stays strong even in rural areas, thats a positive point with good accuracy4g Volte with carrier aggregation works flawlesslyWifi connectivity on the Dual band 5ghz router is strong and performs\\xa0 more than satisfactorily with low latency responseBluetooth 5.1 connectivity is strong and has good range\\xa0 no worries of disconnection even as far as 15 metersAudio quality via 3.5 mm jack is excellent compared to Redmi note 10 pro, much more defined and well roundedFor media consumption widewine L1 support is present, Good AV experience on ott platforms, I have no serious complaints about color reproduction in videos considering TFT LCD this panel does a good enough job .Main Camera 50mp is on par and better than Redmi note 10 pro in almost all conditions, retains colors close to reality with good dynamic range and handling of exposure with HDR in photos as well as videos, it is able to handle extremely bright conditions wellEven in shadows during day time it was able to maintain good colorsGood Stable videos at 1080p4k video recording is available at 30 FPS is availableMany cool camera features , boasts AR fun mode, single Take, Object Eraser and Video TNR (Temporal Noise Reduction) which makes it fun to use cameraSelfie camera has good punchy colors, Samsung's way of boosted colour processing some may like it ,some may notExcellent battery life, got 9 hours of SOT despite the heavy usage. It takes around 1.5 hours to go from 0-100, and half an hour of charging can take the battery percentage to around 45% provided you have 25 watt Samsung’s chargerDespite summer time, phone has managed to stay relatively cool, 5nm architecture helping its cause here12 5G BandsDedicated SD card slot is a plus herePD 3.0 25 watt fast charging support reasonable for price segment but we have seen faster charging speeds with other OEMsPromised 2 major android OS updates and 4 years security updates is a huge plus above its competitors, making this device more value for money in long runCons\\xa0Ultrawide camera is on softer side , lacks details compared to its primary sensor but manages to frame good shots that one can post on social media, macro camera is good with colors and edge detection but lacks depth of field and details , Note 10 pro which is brilliant in this caseNight shots are above average mostly grainy and muddled but better than most smartphones in its segmentLacks some stability in Video recording at 4k\\xa0Amoled display could have made it unbeatableLacks stereo Speaker, but audio quality on single speaker is quite goodPre-installed bloatwares like Moj, dailyhunt, sharechat, byju's are mild and uninstallable but makes mature one UI experience looks immature out of the boxCurrently device is not tunned for high gaming performance as limited FPS in popular games like BGMI and COD deters it away from being a gamer friendly device, but we\\xa0 can expect exynos 1280\\xa0 to resolve over time and be more optimized for more games in future updatesSlightly cheap design , Chunky in size, carries some heft, Dated notch displayLack of charger in the box is a bummer, which adds up to the value cost proposition\"}\n",
      "{'title': 'So-so kind of mobile...', 'rating': 4.0, 'body': \"First, I bought it (during Great Indian Festival for Rs. 14499) for my mother and she is extremely happy with it.Secondly, Samsung mentioned it has a 5nm processor, though the speed does not demonstrate that at all even after opting for maximum RAM usage (i.e., 8GB+8GB).Third, the main sensor 50mp is quite nice to click daylight images. I won't say it struggles at night as the result is 'not so bad'.Fourth, touch sensitivity is awesome. The screen is well protected with Corning Gorilla Glass 5. One must use a screen protector as the screen is quite slippery (take this as a positive point).Fifth, already updated to Android 13 and it's really a great experience till now.Sixth, the battery is HUGE, although doesn't have its effectiveness in day-to-day usage. A fully charged 6000mAh battery does not run for 2 days (even with less usage by my mother. I think the culprit is the update and hope Samsung will fix this issue shortly).Seventh, the design is good (if not great). I like the overall design language of the mobile.Hope this review helps. Take care.\"}\n",
      "{'title': 'Value for money product', 'rating': 4.0, 'body': 'Good product. Great in terms of value.I removed one start due to two reasons,1. Camera is not good for low light photography and 50 Megapixel is of no use2. I am not able to find the voice focus feature'}\n",
      "{'title': 'Efficient phone at affordable price', 'rating': 4.0, 'body': 'Battery life is ok, 8GB RAM processing speed is effective, OS version up to date, all apps working fine, messages app has autobuilt filter and blocking option of spam numbers, data transfer from old phone was seamless'}\n",
      "{'title': 'Best Smart Phone under 18k', 'rating': 4.0, 'body': \"Galaxy M33 5G review, Initially impression looks good feels good but heavy while holding. I am an Iphone user but to get into the Android world i need to backup my Whatsapp data. If you are an Android user then it's easy to back up Whatsapp data in google drive but for Iphone users it's not that easy. Many may be aware that Whatsapp data backup can be done using Samsung devices which run with Android 12. It took nearly 2 hours to complete data transfer from Iphone to M33 device. With datas backup, Now I can switch to an Android device without worrying about data transfering.Unboxing - Box looks slim like a Higher end smartphone, so you can't expect Charger in the box. In Box it has Handset, Sim ejector tool, Type-c to Type-c cable and warranty card.Lets see the Pros and Cons about M33Display:Pros - 120Hz refresh rate with 6.6 inch TFT LCD display and other features like HDR10+ support. It has 1080 x 2408 Resolution which comes with Corning Gorilla Glass 5. Overall it looks like a premium mid range phone.Cons - At this price Amoled display could have been a better one.Body :Pros - Looks like a solid body built with Plastic body at the back.Cons -  Toooo heavy to hold with Phone thickness of 9.4mm and weight over 200 grams.OS & Chipset :Pros - It has a chipset of Exynos 1280 5nm processor with Android 12, One UI 4.1 out of the box. Which is good at this price range.Cons -  Snapdragon Chipset would be better.Storage :Pros - Internal storage comes with 128GB and 6 & 8 GB variant Ram and also Supports dedicated MicroSD card.Cons - NACamera :Pros - Pro mode available. Nice portrait with 50 MP camera. 5 MP Ultra wide does decent work.Cons - 50 MP camera doest take good pics some places over coloured and over shade in pic and 2 with Micro and depth given for name sake. The 8MP selfie camera doesn't take good selfies but can be used for Video calls.Battery :Pros - 6000Mah battery comes with 25W Fast charging and can be used for a couple of days for day today usage but if you're a  heavy user then maybe it lasts for 1 to 1.5 days.Cons - Toooo slow to reach 0 to 100% It takes nearly 2.5 hrs with other fast charges but with Samsung's 25W Fast charges it takes 1.45 Hrs to complete 100%Other Features :It comes with Bluetooth 5.1, Wifi - Dual band, Wifi Direct, GPS, NFC, Reverse charging and Samsung Pay in it.Conclusion :If you ask me, Best Premium mid range smartphone for overall performance but if you need to purchase it as a camera performance then you need to consider other phones with same spec.\"}\n",
      "{'title': 'Glitchy performance and not the best modem', 'rating': 4.0, 'body': \"For the price this is just an ok phone. Lot of lag in touch responses. Seems to get hung even on basic phone operations and touch feedback. I am not using this for any games or heacy apps.  Just basic use for email/work/whatsapp related. Faced call drops and audio issues. While using same airtel SIM in another Samsung phone - everything is perfect. no call drop/audio issues. Not the best modem inside. Couldn't test 5G yet. no coverage in area i stay.  Adaptive display doesn't work on this phone. Unpredictable performance. Manually adjust brightness. After using stereo speakers - just 1 speaker at bottom feels very odd.\"}\n",
      "{'title': 'Everything is great except tft lcd display not even ips lcd.', 'rating': 3.0, 'body': \"Design : great but heavy at 215gm with rugged case 230-33gm, back panel get some fingerprint but not too much. Holding grip is comfortable .Display: yft lcd not ips lcd but 120hz is Smoot. Color accuracy is ok not popping like Olde or amoled. Brightness is more than enough in indore but in sunlight off angle viewing is tough.Processor & performance: multitasking is not a problem at all with 8gb ram & umcp 5.1 not ufs 2.2. Heavy games like COD mobile, apex legends playable at low graphics with max (60fps) fps. Heating issue starts after 40-50min in winter. Its not too hot to hold, you can play a game.Camera : main camera take decent photo with decenr hdr and contrast & enough detail, 50 mp mode take more detailed shot. 5mp wide angle camera at 17499 is painful but ok to have atleast samsung camera software makes the magic to actually produce a usable wide angle photo. Orher 2 mp lens forget about thats. Selfie cam take good photo with good details . Night mode on rear is okish but selfi night mode is not ok.Battery:  heavy uses at 60hz fixed refresh rate gives 7⅓ hr screen on time with highest software tweaks & optimizationpossible. With 120fps it will 6½ hr maybe. Light uses easily last for 1 day.0-100% Charging at 15watt it will take 2hr 10-15min . with 25 watt 0-100% it charges 90-95 mins.Software:  oneui is oneui where it absolutely shines. With 2 yr android update and 4yr security update. Last android update at dec 2023 and last security patch july 2026. It comes with some bloatware but most of them are uninstall able. Only 4 samsung bloatware (galaxy store,theme,max,cloud etc )and one Microsoft (one drive) can't be Uninstalled . No ads within oneui software, ads in 3rd party apps is not a fault of samsung.If you want a phone that works no matter it's specifications and security and privacy is important to you then choose samsung over Chinese brand.Smooth flawless user experience.\"}\n",
      "{'title': 'Better, but camera quality is not good.', 'rating': 4.0, 'body': 'Very good product at this price, but 50 MPX is still camera, so zoomed photo is bad. Also system app lock is disabled by samsung for this model, So other app locking apps are not working properly.'}\n"
     ]
    }
   ],
   "source": [
    "reviews = soup.find_all('div', {'data-hook': 'review'})\n",
    "\n",
    "for item in reviews:\n",
    "    review = {\n",
    "            'title': item.find('a', {'data-hook': 'review-title'}).text.strip(),\n",
    "            'rating':  float(item.find('i', {'data-hook': 'review-star-rating'}).text.replace('out of 5 stars', '').strip()),\n",
    "            'body': item.find('span', {'data-hook': 'review-body'}).text.strip(),\n",
    "            }\n",
    "    print(review)\n"
   ]
  },
  {
   "cell_type": "code",
   "execution_count": 25,
   "id": "f6cb98e2",
   "metadata": {},
   "outputs": [],
   "source": [
    "import csv"
   ]
  },
  {
   "cell_type": "code",
   "execution_count": 31,
   "id": "d4abde0f",
   "metadata": {},
   "outputs": [],
   "source": [
    "header=['Title','Rating','Body']\n",
    "data= [title,rating,body]\n",
    " \n",
    "type(data)\n",
    "\n",
    "with open('AmazonReviews.csv', 'w', newline='', encoding='UTF8') as f:\n",
    "    writer = csv.writer(f)\n",
    "    writer.writerow(header)\n",
    "    writer.writerow(data)"
   ]
  },
  {
   "cell_type": "code",
   "execution_count": 35,
   "id": "f4e7b2ac",
   "metadata": {},
   "outputs": [
    {
     "data": {
      "text/html": [
       "<div>\n",
       "<style scoped>\n",
       "    .dataframe tbody tr th:only-of-type {\n",
       "        vertical-align: middle;\n",
       "    }\n",
       "\n",
       "    .dataframe tbody tr th {\n",
       "        vertical-align: top;\n",
       "    }\n",
       "\n",
       "    .dataframe thead th {\n",
       "        text-align: right;\n",
       "    }\n",
       "</style>\n",
       "<table border=\"1\" class=\"dataframe\">\n",
       "  <thead>\n",
       "    <tr style=\"text-align: right;\">\n",
       "      <th></th>\n",
       "      <th>Title</th>\n",
       "      <th>Rating</th>\n",
       "      <th>Body</th>\n",
       "    </tr>\n",
       "  </thead>\n",
       "  <tbody>\n",
       "    <tr>\n",
       "      <th>0</th>\n",
       "      <td>Better, but camera quality is not good.</td>\n",
       "      <td>4.0</td>\n",
       "      <td>Very good product at this price, but 50 MPX is...</td>\n",
       "    </tr>\n",
       "  </tbody>\n",
       "</table>\n",
       "</div>"
      ],
      "text/plain": [
       "                                     Title  Rating  \\\n",
       "0  Better, but camera quality is not good.     4.0   \n",
       "\n",
       "                                                Body  \n",
       "0  Very good product at this price, but 50 MPX is...  "
      ]
     },
     "execution_count": 35,
     "metadata": {},
     "output_type": "execute_result"
    }
   ],
   "source": [
    "import pandas as pd\n",
    "pd.read_csv('AmazonReviews.csv')"
   ]
  },
  {
   "cell_type": "code",
   "execution_count": null,
   "id": "63e7ee59",
   "metadata": {},
   "outputs": [],
   "source": []
  }
 ],
 "metadata": {
  "kernelspec": {
   "display_name": "Python 3 (ipykernel)",
   "language": "python",
   "name": "python3"
  },
  "language_info": {
   "codemirror_mode": {
    "name": "ipython",
    "version": 3
   },
   "file_extension": ".py",
   "mimetype": "text/x-python",
   "name": "python",
   "nbconvert_exporter": "python",
   "pygments_lexer": "ipython3",
   "version": "3.9.12"
  }
 },
 "nbformat": 4,
 "nbformat_minor": 5
}
